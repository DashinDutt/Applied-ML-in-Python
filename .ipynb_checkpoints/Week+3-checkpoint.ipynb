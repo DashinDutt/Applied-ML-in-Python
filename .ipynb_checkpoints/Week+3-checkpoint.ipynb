{
 "cells": [
  {
   "cell_type": "markdown",
   "metadata": {
    "collapsed": true
   },
   "source": [
    "# Applied Machine Learning: Week 4 (Evaluation)"
   ]
  },
  {
   "cell_type": "markdown",
   "metadata": {},
   "source": [
    "## Evaluation for Classification"
   ]
  },
  {
   "cell_type": "markdown",
   "metadata": {},
   "source": [
    "### Preamble"
   ]
  },
  {
   "cell_type": "code",
   "execution_count": 1,
   "metadata": {
    "collapsed": false
   },
   "outputs": [
    {
     "name": "stdout",
     "output_type": "stream",
     "text": [
      "(0, 178)\n",
      "(1, 182)\n",
      "(2, 177)\n",
      "(3, 183)\n",
      "(4, 181)\n",
      "(5, 182)\n",
      "(6, 181)\n",
      "(7, 179)\n",
      "(8, 174)\n",
      "(9, 180)\n"
     ]
    }
   ],
   "source": [
    "%matplotlib notebook\n",
    "import numpy as np\n",
    "import pandas as pd\n",
    "import seaborn as sns\n",
    "import matplotlib.pyplot as plt\n",
    "from sklearn.model_selection import train_test_split\n",
    "from sklearn.datasets import load_digits\n",
    "\n",
    "dataset = load_digits()\n",
    "X, y = dataset.data, dataset.target\n",
    "\n",
    "for class_name, class_count in zip(dataset.target_names, np.bincount(dataset.target)):\n",
    "    print(class_name,class_count)"
   ]
  },
  {
   "cell_type": "code",
   "execution_count": 2,
   "metadata": {
    "collapsed": false
   },
   "outputs": [
    {
     "name": "stdout",
     "output_type": "stream",
     "text": [
      "('Original labels:\\t', array([1, 2, 3, 4, 5, 6, 7, 8, 9, 0, 1, 2, 3, 4, 5, 6, 7, 8, 9, 0, 1, 2, 3,\n",
      "       4, 5, 6, 7, 8, 9]))\n",
      "('New binary labels:\\t', array([1, 0, 0, 0, 0, 0, 0, 0, 0, 0, 1, 0, 0, 0, 0, 0, 0, 0, 0, 0, 1, 0, 0,\n",
      "       0, 0, 0, 0, 0, 0]))\n"
     ]
    }
   ],
   "source": [
    "# Creating a dataset with imbalanced binary classes:  \n",
    "# Negative class (0) is 'not digit 1' \n",
    "# Positive class (1) is 'digit 1'\n",
    "y_binary_imbalanced = y.copy()\n",
    "y_binary_imbalanced[y_binary_imbalanced != 1] = 0\n",
    "\n",
    "print('Original labels:\\t', y[1:30])\n",
    "print('New binary labels:\\t', y_binary_imbalanced[1:30])"
   ]
  },
  {
   "cell_type": "code",
   "execution_count": 3,
   "metadata": {
    "collapsed": false,
    "scrolled": true
   },
   "outputs": [
    {
     "data": {
      "text/plain": [
       "array([1615,  182])"
      ]
     },
     "execution_count": 3,
     "metadata": {},
     "output_type": "execute_result"
    }
   ],
   "source": [
    "np.bincount(y_binary_imbalanced)    # Negative class (0) is the most frequent class"
   ]
  },
  {
   "cell_type": "code",
   "execution_count": 4,
   "metadata": {
    "collapsed": false
   },
   "outputs": [
    {
     "data": {
      "text/plain": [
       "0.90888888888888886"
      ]
     },
     "execution_count": 4,
     "metadata": {},
     "output_type": "execute_result"
    }
   ],
   "source": [
    "X_train, X_test, y_train, y_test = train_test_split(X, y_binary_imbalanced, random_state=0)\n",
    "\n",
    "# Accuracy of Support Vector Machine classifier\n",
    "from sklearn.svm import SVC\n",
    "\n",
    "svm = SVC(kernel='rbf', C=1).fit(X_train, y_train)\n",
    "svm.score(X_test, y_test)"
   ]
  },
  {
   "cell_type": "markdown",
   "metadata": {},
   "source": [
    "### Dummy Classifiers"
   ]
  },
  {
   "cell_type": "markdown",
   "metadata": {
    "collapsed": true
   },
   "source": [
    "DummyClassifier is a classifier that makes predictions using simple rules, which can be useful as a baseline for comparison against actual classifiers, especially with imbalanced classes."
   ]
  },
  {
   "cell_type": "code",
   "execution_count": 5,
   "metadata": {
    "collapsed": false
   },
   "outputs": [
    {
     "data": {
      "text/plain": [
       "array([0, 0, 0, 0, 0, 0, 0, 0, 0, 0, 0, 0, 0, 0, 0, 0, 0, 0, 0, 0, 0, 0, 0,\n",
       "       0, 0, 0, 0, 0, 0, 0, 0, 0, 0, 0, 0, 0, 0, 0, 0, 0, 0, 0, 0, 0, 0, 0,\n",
       "       0, 0, 0, 0, 0, 0, 0, 0, 0, 0, 0, 0, 0, 0, 0, 0, 0, 0, 0, 0, 0, 0, 0,\n",
       "       0, 0, 0, 0, 0, 0, 0, 0, 0, 0, 0, 0, 0, 0, 0, 0, 0, 0, 0, 0, 0, 0, 0,\n",
       "       0, 0, 0, 0, 0, 0, 0, 0, 0, 0, 0, 0, 0, 0, 0, 0, 0, 0, 0, 0, 0, 0, 0,\n",
       "       0, 0, 0, 0, 0, 0, 0, 0, 0, 0, 0, 0, 0, 0, 0, 0, 0, 0, 0, 0, 0, 0, 0,\n",
       "       0, 0, 0, 0, 0, 0, 0, 0, 0, 0, 0, 0, 0, 0, 0, 0, 0, 0, 0, 0, 0, 0, 0,\n",
       "       0, 0, 0, 0, 0, 0, 0, 0, 0, 0, 0, 0, 0, 0, 0, 0, 0, 0, 0, 0, 0, 0, 0,\n",
       "       0, 0, 0, 0, 0, 0, 0, 0, 0, 0, 0, 0, 0, 0, 0, 0, 0, 0, 0, 0, 0, 0, 0,\n",
       "       0, 0, 0, 0, 0, 0, 0, 0, 0, 0, 0, 0, 0, 0, 0, 0, 0, 0, 0, 0, 0, 0, 0,\n",
       "       0, 0, 0, 0, 0, 0, 0, 0, 0, 0, 0, 0, 0, 0, 0, 0, 0, 0, 0, 0, 0, 0, 0,\n",
       "       0, 0, 0, 0, 0, 0, 0, 0, 0, 0, 0, 0, 0, 0, 0, 0, 0, 0, 0, 0, 0, 0, 0,\n",
       "       0, 0, 0, 0, 0, 0, 0, 0, 0, 0, 0, 0, 0, 0, 0, 0, 0, 0, 0, 0, 0, 0, 0,\n",
       "       0, 0, 0, 0, 0, 0, 0, 0, 0, 0, 0, 0, 0, 0, 0, 0, 0, 0, 0, 0, 0, 0, 0,\n",
       "       0, 0, 0, 0, 0, 0, 0, 0, 0, 0, 0, 0, 0, 0, 0, 0, 0, 0, 0, 0, 0, 0, 0,\n",
       "       0, 0, 0, 0, 0, 0, 0, 0, 0, 0, 0, 0, 0, 0, 0, 0, 0, 0, 0, 0, 0, 0, 0,\n",
       "       0, 0, 0, 0, 0, 0, 0, 0, 0, 0, 0, 0, 0, 0, 0, 0, 0, 0, 0, 0, 0, 0, 0,\n",
       "       0, 0, 0, 0, 0, 0, 0, 0, 0, 0, 0, 0, 0, 0, 0, 0, 0, 0, 0, 0, 0, 0, 0,\n",
       "       0, 0, 0, 0, 0, 0, 0, 0, 0, 0, 0, 0, 0, 0, 0, 0, 0, 0, 0, 0, 0, 0, 0,\n",
       "       0, 0, 0, 0, 0, 0, 0, 0, 0, 0, 0, 0, 0])"
      ]
     },
     "execution_count": 5,
     "metadata": {},
     "output_type": "execute_result"
    }
   ],
   "source": [
    "from sklearn.dummy import DummyClassifier\n",
    "\n",
    "# Negative class (0) is most frequent\n",
    "dummy_majority = DummyClassifier(strategy = 'most_frequent').fit(X_train, y_train)\n",
    "# Therefore the dummy 'most_frequent' classifier always predicts class 0\n",
    "y_dummy_predictions = dummy_majority.predict(X_test)\n",
    "\n",
    "y_dummy_predictions"
   ]
  },
  {
   "cell_type": "code",
   "execution_count": 6,
   "metadata": {
    "collapsed": false
   },
   "outputs": [
    {
     "data": {
      "text/plain": [
       "0.9044444444444445"
      ]
     },
     "execution_count": 6,
     "metadata": {},
     "output_type": "execute_result"
    }
   ],
   "source": [
    "dummy_majority.score(X_test, y_test)"
   ]
  },
  {
   "cell_type": "code",
   "execution_count": 7,
   "metadata": {
    "collapsed": false
   },
   "outputs": [
    {
     "data": {
      "text/plain": [
       "0.97777777777777775"
      ]
     },
     "execution_count": 7,
     "metadata": {},
     "output_type": "execute_result"
    }
   ],
   "source": [
    "svm = SVC(kernel='linear', C=1).fit(X_train, y_train)\n",
    "svm.score(X_test, y_test)"
   ]
  },
  {
   "cell_type": "markdown",
   "metadata": {},
   "source": [
    "### Confusion matrices"
   ]
  },
  {
   "cell_type": "markdown",
   "metadata": {},
   "source": [
    "#### Binary (two-class) confusion matrix"
   ]
  },
  {
   "cell_type": "code",
   "execution_count": 8,
   "metadata": {
    "collapsed": false
   },
   "outputs": [
    {
     "name": "stdout",
     "output_type": "stream",
     "text": [
      "('Most frequent class (dummy classifier)\\n', array([[407,   0],\n",
      "       [ 43,   0]]))\n"
     ]
    }
   ],
   "source": [
    "from sklearn.metrics import confusion_matrix\n",
    "\n",
    "# Negative class (0) is most frequent\n",
    "dummy_majority = DummyClassifier(strategy = 'most_frequent').fit(X_train, y_train)\n",
    "y_majority_predicted = dummy_majority.predict(X_test)\n",
    "confusion = confusion_matrix(y_test, y_majority_predicted)\n",
    "\n",
    "print('Most frequent class (dummy classifier)\\n', confusion)"
   ]
  },
  {
   "cell_type": "code",
   "execution_count": 9,
   "metadata": {
    "collapsed": false
   },
   "outputs": [
    {
     "name": "stdout",
     "output_type": "stream",
     "text": [
      "('Random class-proportional prediction (dummy classifier)\\n', array([[358,  49],\n",
      "       [ 36,   7]]))\n"
     ]
    }
   ],
   "source": [
    "# produces random predictions w/ same class proportion as training set\n",
    "dummy_classprop = DummyClassifier(strategy='stratified').fit(X_train, y_train)\n",
    "y_classprop_predicted = dummy_classprop.predict(X_test)\n",
    "confusion = confusion_matrix(y_test, y_classprop_predicted)\n",
    "\n",
    "print('Random class-proportional prediction (dummy classifier)\\n', confusion)"
   ]
  },
  {
   "cell_type": "code",
   "execution_count": 10,
   "metadata": {
    "collapsed": false,
    "scrolled": true
   },
   "outputs": [
    {
     "name": "stdout",
     "output_type": "stream",
     "text": [
      "('Support vector machine classifier (linear kernel, C=1)\\n', array([[402,   5],\n",
      "       [  5,  38]]))\n"
     ]
    }
   ],
   "source": [
    "svm = SVC(kernel='linear', C=1).fit(X_train, y_train)\n",
    "svm_predicted = svm.predict(X_test)\n",
    "confusion = confusion_matrix(y_test, svm_predicted)\n",
    "\n",
    "print('Support vector machine classifier (linear kernel, C=1)\\n', confusion)"
   ]
  },
  {
   "cell_type": "code",
   "execution_count": 11,
   "metadata": {
    "collapsed": false
   },
   "outputs": [
    {
     "name": "stdout",
     "output_type": "stream",
     "text": [
      "('Logistic regression classifier (default settings)\\n', array([[401,   6],\n",
      "       [  6,  37]]))\n"
     ]
    }
   ],
   "source": [
    "from sklearn.linear_model import LogisticRegression\n",
    "\n",
    "lr = LogisticRegression().fit(X_train, y_train)\n",
    "lr_predicted = lr.predict(X_test)\n",
    "confusion = confusion_matrix(y_test, lr_predicted)\n",
    "\n",
    "print('Logistic regression classifier (default settings)\\n', confusion)"
   ]
  },
  {
   "cell_type": "code",
   "execution_count": 12,
   "metadata": {
    "collapsed": false
   },
   "outputs": [
    {
     "name": "stdout",
     "output_type": "stream",
     "text": [
      "('Decision tree classifier (max_depth = 2)\\n', array([[400,   7],\n",
      "       [ 17,  26]]))\n"
     ]
    }
   ],
   "source": [
    "from sklearn.tree import DecisionTreeClassifier\n",
    "\n",
    "dt = DecisionTreeClassifier(max_depth=2).fit(X_train, y_train)\n",
    "tree_predicted = dt.predict(X_test)\n",
    "confusion = confusion_matrix(y_test, tree_predicted)\n",
    "\n",
    "print('Decision tree classifier (max_depth = 2)\\n', confusion)"
   ]
  },
  {
   "cell_type": "markdown",
   "metadata": {},
   "source": [
    "### Evaluation metrics for binary classification"
   ]
  },
  {
   "cell_type": "code",
   "execution_count": 13,
   "metadata": {
    "collapsed": false
   },
   "outputs": [
    {
     "name": "stdout",
     "output_type": "stream",
     "text": [
      "Accuracy: 0.95\n",
      "Precision: 0.79\n",
      "Recall: 0.60\n",
      "F1: 0.68\n"
     ]
    }
   ],
   "source": [
    "from sklearn.metrics import accuracy_score, precision_score, recall_score, f1_score\n",
    "# Accuracy = TP + TN / (TP + TN + FP + FN)\n",
    "# Precision = TP / (TP + FP)\n",
    "# Recall = TP / (TP + FN)  Also known as sensitivity, or True Positive Rate\n",
    "# F1 = 2 * Precision * Recall / (Precision + Recall) \n",
    "print('Accuracy: {:.2f}'.format(accuracy_score(y_test, tree_predicted)))\n",
    "print('Precision: {:.2f}'.format(precision_score(y_test, tree_predicted)))\n",
    "print('Recall: {:.2f}'.format(recall_score(y_test, tree_predicted)))\n",
    "print('F1: {:.2f}'.format(f1_score(y_test, tree_predicted)))"
   ]
  },
  {
   "cell_type": "code",
   "execution_count": 14,
   "metadata": {
    "collapsed": false
   },
   "outputs": [
    {
     "name": "stdout",
     "output_type": "stream",
     "text": [
      "             precision    recall  f1-score   support\n",
      "\n",
      "      not 1       0.96      0.98      0.97       407\n",
      "          1       0.79      0.60      0.68        43\n",
      "\n",
      "avg / total       0.94      0.95      0.94       450\n",
      "\n"
     ]
    }
   ],
   "source": [
    "# Combined report with all above metrics\n",
    "from sklearn.metrics import classification_report\n",
    "\n",
    "print(classification_report(y_test, tree_predicted, target_names=['not 1', '1']))"
   ]
  },
  {
   "cell_type": "code",
   "execution_count": 15,
   "metadata": {
    "collapsed": false,
    "scrolled": false
   },
   "outputs": [
    {
     "name": "stdout",
     "output_type": "stream",
     "text": [
      "('Random class-proportional (dummy)\\n', '             precision    recall  f1-score   support\\n\\n      not 1       0.91      0.88      0.89       407\\n          1       0.12      0.16      0.14        43\\n\\navg / total       0.83      0.81      0.82       450\\n')\n",
      "('SVM\\n', '             precision    recall  f1-score   support\\n\\n      not 1       0.99      0.99      0.99       407\\n          1       0.88      0.88      0.88        43\\n\\navg / total       0.98      0.98      0.98       450\\n')\n",
      "('Logistic regression\\n', '             precision    recall  f1-score   support\\n\\n      not 1       0.99      0.99      0.99       407\\n          1       0.86      0.86      0.86        43\\n\\navg / total       0.97      0.97      0.97       450\\n')\n",
      "('Decision tree\\n', '             precision    recall  f1-score   support\\n\\n      not 1       0.96      0.98      0.97       407\\n          1       0.79      0.60      0.68        43\\n\\navg / total       0.94      0.95      0.94       450\\n')\n"
     ]
    }
   ],
   "source": [
    "print('Random class-proportional (dummy)\\n', \n",
    "      classification_report(y_test, y_classprop_predicted, target_names=['not 1', '1']))\n",
    "print('SVM\\n', \n",
    "      classification_report(y_test, svm_predicted, target_names = ['not 1', '1']))\n",
    "print('Logistic regression\\n', \n",
    "      classification_report(y_test, lr_predicted, target_names = ['not 1', '1']))\n",
    "print('Decision tree\\n', \n",
    "      classification_report(y_test, tree_predicted, target_names = ['not 1', '1']))"
   ]
  },
  {
   "cell_type": "markdown",
   "metadata": {},
   "source": [
    "### Decision functions"
   ]
  },
  {
   "cell_type": "code",
   "execution_count": 16,
   "metadata": {
    "collapsed": false
   },
   "outputs": [
    {
     "data": {
      "text/plain": [
       "[(0, -23.170879763438489),\n",
       " (0, -13.541049155917442),\n",
       " (0, -21.718410495766047),\n",
       " (0, -18.903018796317614),\n",
       " (0, -19.726963930933646),\n",
       " (0, -9.7476299243392468),\n",
       " (1, 5.2350444485885728),\n",
       " (0, -19.310534585975009),\n",
       " (0, -25.095761372907411),\n",
       " (0, -21.82518205819499),\n",
       " (0, -24.151847950704838),\n",
       " (0, -19.57685598777773),\n",
       " (0, -22.568647843178066),\n",
       " (0, -10.827497382015093),\n",
       " (0, -11.914204836433445),\n",
       " (0, -10.978200933521144),\n",
       " (1, 11.208247427228383),\n",
       " (0, -27.654779380911325),\n",
       " (0, -12.86578505893219),\n",
       " (0, -25.854660954814168)]"
      ]
     },
     "execution_count": 16,
     "metadata": {},
     "output_type": "execute_result"
    }
   ],
   "source": [
    "X_train, X_test, y_train, y_test = train_test_split(X, y_binary_imbalanced, random_state=0)\n",
    "y_scores_lr = lr.fit(X_train, y_train).decision_function(X_test)\n",
    "y_score_list = list(zip(y_test[0:20], y_scores_lr[0:20]))\n",
    "\n",
    "# show the decision_function scores for first 20 instances\n",
    "y_score_list"
   ]
  },
  {
   "cell_type": "code",
   "execution_count": 17,
   "metadata": {
    "collapsed": false
   },
   "outputs": [
    {
     "data": {
      "text/plain": [
       "[(0, 8.6499735177690694e-11),\n",
       " (0, 1.3158200536765997e-06),\n",
       " (0, 3.6966996451858561e-10),\n",
       " (0, 6.1733832999121053e-09),\n",
       " (0, 2.7082479240214873e-09),\n",
       " (0, 5.8429576137198122e-05),\n",
       " (1, 0.99470163448940829),\n",
       " (0, 4.107157760661424e-09),\n",
       " (0, 1.2619708303371749e-11),\n",
       " (0, 3.3223383968922136e-10),\n",
       " (0, 3.2432894340351213e-11),\n",
       " (0, 3.1468748398146772e-09),\n",
       " (0, 1.5796496573610726e-10),\n",
       " (0, 1.9845818498080003e-05),\n",
       " (0, 6.6945852427350788e-06),\n",
       " (0, 1.7069488214981377e-05),\n",
       " (1, 0.99998643830100953),\n",
       " (0, 9.7652174072714455e-13),\n",
       " (0, 2.5849932947127171e-06),\n",
       " (0, 5.9083119295979248e-12)]"
      ]
     },
     "execution_count": 17,
     "metadata": {},
     "output_type": "execute_result"
    }
   ],
   "source": [
    "X_train, X_test, y_train, y_test = train_test_split(X, y_binary_imbalanced, random_state=0)\n",
    "y_proba_lr = lr.fit(X_train, y_train).predict_proba(X_test)\n",
    "y_proba_list = list(zip(y_test[0:20], y_proba_lr[0:20,1]))\n",
    "\n",
    "# show the probability of positive class for first 20 instances\n",
    "y_proba_list"
   ]
  },
  {
   "cell_type": "markdown",
   "metadata": {},
   "source": [
    "### Precision-recall curves"
   ]
  },
  {
   "cell_type": "code",
   "execution_count": 18,
   "metadata": {
    "collapsed": false
   },
   "outputs": [
    {
     "data": {
      "application/javascript": [
       "/* Put everything inside the global mpl namespace */\n",
       "window.mpl = {};\n",
       "\n",
       "\n",
       "mpl.get_websocket_type = function() {\n",
       "    if (typeof(WebSocket) !== 'undefined') {\n",
       "        return WebSocket;\n",
       "    } else if (typeof(MozWebSocket) !== 'undefined') {\n",
       "        return MozWebSocket;\n",
       "    } else {\n",
       "        alert('Your browser does not have WebSocket support.' +\n",
       "              'Please try Chrome, Safari or Firefox ≥ 6. ' +\n",
       "              'Firefox 4 and 5 are also supported but you ' +\n",
       "              'have to enable WebSockets in about:config.');\n",
       "    };\n",
       "}\n",
       "\n",
       "mpl.figure = function(figure_id, websocket, ondownload, parent_element) {\n",
       "    this.id = figure_id;\n",
       "\n",
       "    this.ws = websocket;\n",
       "\n",
       "    this.supports_binary = (this.ws.binaryType != undefined);\n",
       "\n",
       "    if (!this.supports_binary) {\n",
       "        var warnings = document.getElementById(\"mpl-warnings\");\n",
       "        if (warnings) {\n",
       "            warnings.style.display = 'block';\n",
       "            warnings.textContent = (\n",
       "                \"This browser does not support binary websocket messages. \" +\n",
       "                    \"Performance may be slow.\");\n",
       "        }\n",
       "    }\n",
       "\n",
       "    this.imageObj = new Image();\n",
       "\n",
       "    this.context = undefined;\n",
       "    this.message = undefined;\n",
       "    this.canvas = undefined;\n",
       "    this.rubberband_canvas = undefined;\n",
       "    this.rubberband_context = undefined;\n",
       "    this.format_dropdown = undefined;\n",
       "\n",
       "    this.image_mode = 'full';\n",
       "\n",
       "    this.root = $('<div/>');\n",
       "    this._root_extra_style(this.root)\n",
       "    this.root.attr('style', 'display: inline-block');\n",
       "\n",
       "    $(parent_element).append(this.root);\n",
       "\n",
       "    this._init_header(this);\n",
       "    this._init_canvas(this);\n",
       "    this._init_toolbar(this);\n",
       "\n",
       "    var fig = this;\n",
       "\n",
       "    this.waiting = false;\n",
       "\n",
       "    this.ws.onopen =  function () {\n",
       "            fig.send_message(\"supports_binary\", {value: fig.supports_binary});\n",
       "            fig.send_message(\"send_image_mode\", {});\n",
       "            if (mpl.ratio != 1) {\n",
       "                fig.send_message(\"set_dpi_ratio\", {'dpi_ratio': mpl.ratio});\n",
       "            }\n",
       "            fig.send_message(\"refresh\", {});\n",
       "        }\n",
       "\n",
       "    this.imageObj.onload = function() {\n",
       "            if (fig.image_mode == 'full') {\n",
       "                // Full images could contain transparency (where diff images\n",
       "                // almost always do), so we need to clear the canvas so that\n",
       "                // there is no ghosting.\n",
       "                fig.context.clearRect(0, 0, fig.canvas.width, fig.canvas.height);\n",
       "            }\n",
       "            fig.context.drawImage(fig.imageObj, 0, 0);\n",
       "        };\n",
       "\n",
       "    this.imageObj.onunload = function() {\n",
       "        this.ws.close();\n",
       "    }\n",
       "\n",
       "    this.ws.onmessage = this._make_on_message_function(this);\n",
       "\n",
       "    this.ondownload = ondownload;\n",
       "}\n",
       "\n",
       "mpl.figure.prototype._init_header = function() {\n",
       "    var titlebar = $(\n",
       "        '<div class=\"ui-dialog-titlebar ui-widget-header ui-corner-all ' +\n",
       "        'ui-helper-clearfix\"/>');\n",
       "    var titletext = $(\n",
       "        '<div class=\"ui-dialog-title\" style=\"width: 100%; ' +\n",
       "        'text-align: center; padding: 3px;\"/>');\n",
       "    titlebar.append(titletext)\n",
       "    this.root.append(titlebar);\n",
       "    this.header = titletext[0];\n",
       "}\n",
       "\n",
       "\n",
       "\n",
       "mpl.figure.prototype._canvas_extra_style = function(canvas_div) {\n",
       "\n",
       "}\n",
       "\n",
       "\n",
       "mpl.figure.prototype._root_extra_style = function(canvas_div) {\n",
       "\n",
       "}\n",
       "\n",
       "mpl.figure.prototype._init_canvas = function() {\n",
       "    var fig = this;\n",
       "\n",
       "    var canvas_div = $('<div/>');\n",
       "\n",
       "    canvas_div.attr('style', 'position: relative; clear: both; outline: 0');\n",
       "\n",
       "    function canvas_keyboard_event(event) {\n",
       "        return fig.key_event(event, event['data']);\n",
       "    }\n",
       "\n",
       "    canvas_div.keydown('key_press', canvas_keyboard_event);\n",
       "    canvas_div.keyup('key_release', canvas_keyboard_event);\n",
       "    this.canvas_div = canvas_div\n",
       "    this._canvas_extra_style(canvas_div)\n",
       "    this.root.append(canvas_div);\n",
       "\n",
       "    var canvas = $('<canvas/>');\n",
       "    canvas.addClass('mpl-canvas');\n",
       "    canvas.attr('style', \"left: 0; top: 0; z-index: 0; outline: 0\")\n",
       "\n",
       "    this.canvas = canvas[0];\n",
       "    this.context = canvas[0].getContext(\"2d\");\n",
       "\n",
       "    var backingStore = this.context.backingStorePixelRatio ||\n",
       "\tthis.context.webkitBackingStorePixelRatio ||\n",
       "\tthis.context.mozBackingStorePixelRatio ||\n",
       "\tthis.context.msBackingStorePixelRatio ||\n",
       "\tthis.context.oBackingStorePixelRatio ||\n",
       "\tthis.context.backingStorePixelRatio || 1;\n",
       "\n",
       "    mpl.ratio = (window.devicePixelRatio || 1) / backingStore;\n",
       "\n",
       "    var rubberband = $('<canvas/>');\n",
       "    rubberband.attr('style', \"position: absolute; left: 0; top: 0; z-index: 1;\")\n",
       "\n",
       "    var pass_mouse_events = true;\n",
       "\n",
       "    canvas_div.resizable({\n",
       "        start: function(event, ui) {\n",
       "            pass_mouse_events = false;\n",
       "        },\n",
       "        resize: function(event, ui) {\n",
       "            fig.request_resize(ui.size.width, ui.size.height);\n",
       "        },\n",
       "        stop: function(event, ui) {\n",
       "            pass_mouse_events = true;\n",
       "            fig.request_resize(ui.size.width, ui.size.height);\n",
       "        },\n",
       "    });\n",
       "\n",
       "    function mouse_event_fn(event) {\n",
       "        if (pass_mouse_events)\n",
       "            return fig.mouse_event(event, event['data']);\n",
       "    }\n",
       "\n",
       "    rubberband.mousedown('button_press', mouse_event_fn);\n",
       "    rubberband.mouseup('button_release', mouse_event_fn);\n",
       "    // Throttle sequential mouse events to 1 every 20ms.\n",
       "    rubberband.mousemove('motion_notify', mouse_event_fn);\n",
       "\n",
       "    rubberband.mouseenter('figure_enter', mouse_event_fn);\n",
       "    rubberband.mouseleave('figure_leave', mouse_event_fn);\n",
       "\n",
       "    canvas_div.on(\"wheel\", function (event) {\n",
       "        event = event.originalEvent;\n",
       "        event['data'] = 'scroll'\n",
       "        if (event.deltaY < 0) {\n",
       "            event.step = 1;\n",
       "        } else {\n",
       "            event.step = -1;\n",
       "        }\n",
       "        mouse_event_fn(event);\n",
       "    });\n",
       "\n",
       "    canvas_div.append(canvas);\n",
       "    canvas_div.append(rubberband);\n",
       "\n",
       "    this.rubberband = rubberband;\n",
       "    this.rubberband_canvas = rubberband[0];\n",
       "    this.rubberband_context = rubberband[0].getContext(\"2d\");\n",
       "    this.rubberband_context.strokeStyle = \"#000000\";\n",
       "\n",
       "    this._resize_canvas = function(width, height) {\n",
       "        // Keep the size of the canvas, canvas container, and rubber band\n",
       "        // canvas in synch.\n",
       "        canvas_div.css('width', width)\n",
       "        canvas_div.css('height', height)\n",
       "\n",
       "        canvas.attr('width', width * mpl.ratio);\n",
       "        canvas.attr('height', height * mpl.ratio);\n",
       "        canvas.attr('style', 'width: ' + width + 'px; height: ' + height + 'px;');\n",
       "\n",
       "        rubberband.attr('width', width);\n",
       "        rubberband.attr('height', height);\n",
       "    }\n",
       "\n",
       "    // Set the figure to an initial 600x600px, this will subsequently be updated\n",
       "    // upon first draw.\n",
       "    this._resize_canvas(600, 600);\n",
       "\n",
       "    // Disable right mouse context menu.\n",
       "    $(this.rubberband_canvas).bind(\"contextmenu\",function(e){\n",
       "        return false;\n",
       "    });\n",
       "\n",
       "    function set_focus () {\n",
       "        canvas.focus();\n",
       "        canvas_div.focus();\n",
       "    }\n",
       "\n",
       "    window.setTimeout(set_focus, 100);\n",
       "}\n",
       "\n",
       "mpl.figure.prototype._init_toolbar = function() {\n",
       "    var fig = this;\n",
       "\n",
       "    var nav_element = $('<div/>')\n",
       "    nav_element.attr('style', 'width: 100%');\n",
       "    this.root.append(nav_element);\n",
       "\n",
       "    // Define a callback function for later on.\n",
       "    function toolbar_event(event) {\n",
       "        return fig.toolbar_button_onclick(event['data']);\n",
       "    }\n",
       "    function toolbar_mouse_event(event) {\n",
       "        return fig.toolbar_button_onmouseover(event['data']);\n",
       "    }\n",
       "\n",
       "    for(var toolbar_ind in mpl.toolbar_items) {\n",
       "        var name = mpl.toolbar_items[toolbar_ind][0];\n",
       "        var tooltip = mpl.toolbar_items[toolbar_ind][1];\n",
       "        var image = mpl.toolbar_items[toolbar_ind][2];\n",
       "        var method_name = mpl.toolbar_items[toolbar_ind][3];\n",
       "\n",
       "        if (!name) {\n",
       "            // put a spacer in here.\n",
       "            continue;\n",
       "        }\n",
       "        var button = $('<button/>');\n",
       "        button.addClass('ui-button ui-widget ui-state-default ui-corner-all ' +\n",
       "                        'ui-button-icon-only');\n",
       "        button.attr('role', 'button');\n",
       "        button.attr('aria-disabled', 'false');\n",
       "        button.click(method_name, toolbar_event);\n",
       "        button.mouseover(tooltip, toolbar_mouse_event);\n",
       "\n",
       "        var icon_img = $('<span/>');\n",
       "        icon_img.addClass('ui-button-icon-primary ui-icon');\n",
       "        icon_img.addClass(image);\n",
       "        icon_img.addClass('ui-corner-all');\n",
       "\n",
       "        var tooltip_span = $('<span/>');\n",
       "        tooltip_span.addClass('ui-button-text');\n",
       "        tooltip_span.html(tooltip);\n",
       "\n",
       "        button.append(icon_img);\n",
       "        button.append(tooltip_span);\n",
       "\n",
       "        nav_element.append(button);\n",
       "    }\n",
       "\n",
       "    var fmt_picker_span = $('<span/>');\n",
       "\n",
       "    var fmt_picker = $('<select/>');\n",
       "    fmt_picker.addClass('mpl-toolbar-option ui-widget ui-widget-content');\n",
       "    fmt_picker_span.append(fmt_picker);\n",
       "    nav_element.append(fmt_picker_span);\n",
       "    this.format_dropdown = fmt_picker[0];\n",
       "\n",
       "    for (var ind in mpl.extensions) {\n",
       "        var fmt = mpl.extensions[ind];\n",
       "        var option = $(\n",
       "            '<option/>', {selected: fmt === mpl.default_extension}).html(fmt);\n",
       "        fmt_picker.append(option)\n",
       "    }\n",
       "\n",
       "    // Add hover states to the ui-buttons\n",
       "    $( \".ui-button\" ).hover(\n",
       "        function() { $(this).addClass(\"ui-state-hover\");},\n",
       "        function() { $(this).removeClass(\"ui-state-hover\");}\n",
       "    );\n",
       "\n",
       "    var status_bar = $('<span class=\"mpl-message\"/>');\n",
       "    nav_element.append(status_bar);\n",
       "    this.message = status_bar[0];\n",
       "}\n",
       "\n",
       "mpl.figure.prototype.request_resize = function(x_pixels, y_pixels) {\n",
       "    // Request matplotlib to resize the figure. Matplotlib will then trigger a resize in the client,\n",
       "    // which will in turn request a refresh of the image.\n",
       "    this.send_message('resize', {'width': x_pixels, 'height': y_pixels});\n",
       "}\n",
       "\n",
       "mpl.figure.prototype.send_message = function(type, properties) {\n",
       "    properties['type'] = type;\n",
       "    properties['figure_id'] = this.id;\n",
       "    this.ws.send(JSON.stringify(properties));\n",
       "}\n",
       "\n",
       "mpl.figure.prototype.send_draw_message = function() {\n",
       "    if (!this.waiting) {\n",
       "        this.waiting = true;\n",
       "        this.ws.send(JSON.stringify({type: \"draw\", figure_id: this.id}));\n",
       "    }\n",
       "}\n",
       "\n",
       "\n",
       "mpl.figure.prototype.handle_save = function(fig, msg) {\n",
       "    var format_dropdown = fig.format_dropdown;\n",
       "    var format = format_dropdown.options[format_dropdown.selectedIndex].value;\n",
       "    fig.ondownload(fig, format);\n",
       "}\n",
       "\n",
       "\n",
       "mpl.figure.prototype.handle_resize = function(fig, msg) {\n",
       "    var size = msg['size'];\n",
       "    if (size[0] != fig.canvas.width || size[1] != fig.canvas.height) {\n",
       "        fig._resize_canvas(size[0], size[1]);\n",
       "        fig.send_message(\"refresh\", {});\n",
       "    };\n",
       "}\n",
       "\n",
       "mpl.figure.prototype.handle_rubberband = function(fig, msg) {\n",
       "    var x0 = msg['x0'] / mpl.ratio;\n",
       "    var y0 = (fig.canvas.height - msg['y0']) / mpl.ratio;\n",
       "    var x1 = msg['x1'] / mpl.ratio;\n",
       "    var y1 = (fig.canvas.height - msg['y1']) / mpl.ratio;\n",
       "    x0 = Math.floor(x0) + 0.5;\n",
       "    y0 = Math.floor(y0) + 0.5;\n",
       "    x1 = Math.floor(x1) + 0.5;\n",
       "    y1 = Math.floor(y1) + 0.5;\n",
       "    var min_x = Math.min(x0, x1);\n",
       "    var min_y = Math.min(y0, y1);\n",
       "    var width = Math.abs(x1 - x0);\n",
       "    var height = Math.abs(y1 - y0);\n",
       "\n",
       "    fig.rubberband_context.clearRect(\n",
       "        0, 0, fig.canvas.width, fig.canvas.height);\n",
       "\n",
       "    fig.rubberband_context.strokeRect(min_x, min_y, width, height);\n",
       "}\n",
       "\n",
       "mpl.figure.prototype.handle_figure_label = function(fig, msg) {\n",
       "    // Updates the figure title.\n",
       "    fig.header.textContent = msg['label'];\n",
       "}\n",
       "\n",
       "mpl.figure.prototype.handle_cursor = function(fig, msg) {\n",
       "    var cursor = msg['cursor'];\n",
       "    switch(cursor)\n",
       "    {\n",
       "    case 0:\n",
       "        cursor = 'pointer';\n",
       "        break;\n",
       "    case 1:\n",
       "        cursor = 'default';\n",
       "        break;\n",
       "    case 2:\n",
       "        cursor = 'crosshair';\n",
       "        break;\n",
       "    case 3:\n",
       "        cursor = 'move';\n",
       "        break;\n",
       "    }\n",
       "    fig.rubberband_canvas.style.cursor = cursor;\n",
       "}\n",
       "\n",
       "mpl.figure.prototype.handle_message = function(fig, msg) {\n",
       "    fig.message.textContent = msg['message'];\n",
       "}\n",
       "\n",
       "mpl.figure.prototype.handle_draw = function(fig, msg) {\n",
       "    // Request the server to send over a new figure.\n",
       "    fig.send_draw_message();\n",
       "}\n",
       "\n",
       "mpl.figure.prototype.handle_image_mode = function(fig, msg) {\n",
       "    fig.image_mode = msg['mode'];\n",
       "}\n",
       "\n",
       "mpl.figure.prototype.updated_canvas_event = function() {\n",
       "    // Called whenever the canvas gets updated.\n",
       "    this.send_message(\"ack\", {});\n",
       "}\n",
       "\n",
       "// A function to construct a web socket function for onmessage handling.\n",
       "// Called in the figure constructor.\n",
       "mpl.figure.prototype._make_on_message_function = function(fig) {\n",
       "    return function socket_on_message(evt) {\n",
       "        if (evt.data instanceof Blob) {\n",
       "            /* FIXME: We get \"Resource interpreted as Image but\n",
       "             * transferred with MIME type text/plain:\" errors on\n",
       "             * Chrome.  But how to set the MIME type?  It doesn't seem\n",
       "             * to be part of the websocket stream */\n",
       "            evt.data.type = \"image/png\";\n",
       "\n",
       "            /* Free the memory for the previous frames */\n",
       "            if (fig.imageObj.src) {\n",
       "                (window.URL || window.webkitURL).revokeObjectURL(\n",
       "                    fig.imageObj.src);\n",
       "            }\n",
       "\n",
       "            fig.imageObj.src = (window.URL || window.webkitURL).createObjectURL(\n",
       "                evt.data);\n",
       "            fig.updated_canvas_event();\n",
       "            fig.waiting = false;\n",
       "            return;\n",
       "        }\n",
       "        else if (typeof evt.data === 'string' && evt.data.slice(0, 21) == \"data:image/png;base64\") {\n",
       "            fig.imageObj.src = evt.data;\n",
       "            fig.updated_canvas_event();\n",
       "            fig.waiting = false;\n",
       "            return;\n",
       "        }\n",
       "\n",
       "        var msg = JSON.parse(evt.data);\n",
       "        var msg_type = msg['type'];\n",
       "\n",
       "        // Call the  \"handle_{type}\" callback, which takes\n",
       "        // the figure and JSON message as its only arguments.\n",
       "        try {\n",
       "            var callback = fig[\"handle_\" + msg_type];\n",
       "        } catch (e) {\n",
       "            console.log(\"No handler for the '\" + msg_type + \"' message type: \", msg);\n",
       "            return;\n",
       "        }\n",
       "\n",
       "        if (callback) {\n",
       "            try {\n",
       "                // console.log(\"Handling '\" + msg_type + \"' message: \", msg);\n",
       "                callback(fig, msg);\n",
       "            } catch (e) {\n",
       "                console.log(\"Exception inside the 'handler_\" + msg_type + \"' callback:\", e, e.stack, msg);\n",
       "            }\n",
       "        }\n",
       "    };\n",
       "}\n",
       "\n",
       "// from http://stackoverflow.com/questions/1114465/getting-mouse-location-in-canvas\n",
       "mpl.findpos = function(e) {\n",
       "    //this section is from http://www.quirksmode.org/js/events_properties.html\n",
       "    var targ;\n",
       "    if (!e)\n",
       "        e = window.event;\n",
       "    if (e.target)\n",
       "        targ = e.target;\n",
       "    else if (e.srcElement)\n",
       "        targ = e.srcElement;\n",
       "    if (targ.nodeType == 3) // defeat Safari bug\n",
       "        targ = targ.parentNode;\n",
       "\n",
       "    // jQuery normalizes the pageX and pageY\n",
       "    // pageX,Y are the mouse positions relative to the document\n",
       "    // offset() returns the position of the element relative to the document\n",
       "    var x = e.pageX - $(targ).offset().left;\n",
       "    var y = e.pageY - $(targ).offset().top;\n",
       "\n",
       "    return {\"x\": x, \"y\": y};\n",
       "};\n",
       "\n",
       "/*\n",
       " * return a copy of an object with only non-object keys\n",
       " * we need this to avoid circular references\n",
       " * http://stackoverflow.com/a/24161582/3208463\n",
       " */\n",
       "function simpleKeys (original) {\n",
       "  return Object.keys(original).reduce(function (obj, key) {\n",
       "    if (typeof original[key] !== 'object')\n",
       "        obj[key] = original[key]\n",
       "    return obj;\n",
       "  }, {});\n",
       "}\n",
       "\n",
       "mpl.figure.prototype.mouse_event = function(event, name) {\n",
       "    var canvas_pos = mpl.findpos(event)\n",
       "\n",
       "    if (name === 'button_press')\n",
       "    {\n",
       "        this.canvas.focus();\n",
       "        this.canvas_div.focus();\n",
       "    }\n",
       "\n",
       "    var x = canvas_pos.x * mpl.ratio;\n",
       "    var y = canvas_pos.y * mpl.ratio;\n",
       "\n",
       "    this.send_message(name, {x: x, y: y, button: event.button,\n",
       "                             step: event.step,\n",
       "                             guiEvent: simpleKeys(event)});\n",
       "\n",
       "    /* This prevents the web browser from automatically changing to\n",
       "     * the text insertion cursor when the button is pressed.  We want\n",
       "     * to control all of the cursor setting manually through the\n",
       "     * 'cursor' event from matplotlib */\n",
       "    event.preventDefault();\n",
       "    return false;\n",
       "}\n",
       "\n",
       "mpl.figure.prototype._key_event_extra = function(event, name) {\n",
       "    // Handle any extra behaviour associated with a key event\n",
       "}\n",
       "\n",
       "mpl.figure.prototype.key_event = function(event, name) {\n",
       "\n",
       "    // Prevent repeat events\n",
       "    if (name == 'key_press')\n",
       "    {\n",
       "        if (event.which === this._key)\n",
       "            return;\n",
       "        else\n",
       "            this._key = event.which;\n",
       "    }\n",
       "    if (name == 'key_release')\n",
       "        this._key = null;\n",
       "\n",
       "    var value = '';\n",
       "    if (event.ctrlKey && event.which != 17)\n",
       "        value += \"ctrl+\";\n",
       "    if (event.altKey && event.which != 18)\n",
       "        value += \"alt+\";\n",
       "    if (event.shiftKey && event.which != 16)\n",
       "        value += \"shift+\";\n",
       "\n",
       "    value += 'k';\n",
       "    value += event.which.toString();\n",
       "\n",
       "    this._key_event_extra(event, name);\n",
       "\n",
       "    this.send_message(name, {key: value,\n",
       "                             guiEvent: simpleKeys(event)});\n",
       "    return false;\n",
       "}\n",
       "\n",
       "mpl.figure.prototype.toolbar_button_onclick = function(name) {\n",
       "    if (name == 'download') {\n",
       "        this.handle_save(this, null);\n",
       "    } else {\n",
       "        this.send_message(\"toolbar_button\", {name: name});\n",
       "    }\n",
       "};\n",
       "\n",
       "mpl.figure.prototype.toolbar_button_onmouseover = function(tooltip) {\n",
       "    this.message.textContent = tooltip;\n",
       "};\n",
       "mpl.toolbar_items = [[\"Home\", \"Reset original view\", \"fa fa-home icon-home\", \"home\"], [\"Back\", \"Back to  previous view\", \"fa fa-arrow-left icon-arrow-left\", \"back\"], [\"Forward\", \"Forward to next view\", \"fa fa-arrow-right icon-arrow-right\", \"forward\"], [\"\", \"\", \"\", \"\"], [\"Pan\", \"Pan axes with left mouse, zoom with right\", \"fa fa-arrows icon-move\", \"pan\"], [\"Zoom\", \"Zoom to rectangle\", \"fa fa-square-o icon-check-empty\", \"zoom\"], [\"\", \"\", \"\", \"\"], [\"Download\", \"Download plot\", \"fa fa-floppy-o icon-save\", \"download\"]];\n",
       "\n",
       "mpl.extensions = [\"eps\", \"jpeg\", \"pdf\", \"png\", \"ps\", \"raw\", \"svg\", \"tif\"];\n",
       "\n",
       "mpl.default_extension = \"png\";var comm_websocket_adapter = function(comm) {\n",
       "    // Create a \"websocket\"-like object which calls the given IPython comm\n",
       "    // object with the appropriate methods. Currently this is a non binary\n",
       "    // socket, so there is still some room for performance tuning.\n",
       "    var ws = {};\n",
       "\n",
       "    ws.close = function() {\n",
       "        comm.close()\n",
       "    };\n",
       "    ws.send = function(m) {\n",
       "        //console.log('sending', m);\n",
       "        comm.send(m);\n",
       "    };\n",
       "    // Register the callback with on_msg.\n",
       "    comm.on_msg(function(msg) {\n",
       "        //console.log('receiving', msg['content']['data'], msg);\n",
       "        // Pass the mpl event to the overriden (by mpl) onmessage function.\n",
       "        ws.onmessage(msg['content']['data'])\n",
       "    });\n",
       "    return ws;\n",
       "}\n",
       "\n",
       "mpl.mpl_figure_comm = function(comm, msg) {\n",
       "    // This is the function which gets called when the mpl process\n",
       "    // starts-up an IPython Comm through the \"matplotlib\" channel.\n",
       "\n",
       "    var id = msg.content.data.id;\n",
       "    // Get hold of the div created by the display call when the Comm\n",
       "    // socket was opened in Python.\n",
       "    var element = $(\"#\" + id);\n",
       "    var ws_proxy = comm_websocket_adapter(comm)\n",
       "\n",
       "    function ondownload(figure, format) {\n",
       "        window.open(figure.imageObj.src);\n",
       "    }\n",
       "\n",
       "    var fig = new mpl.figure(id, ws_proxy,\n",
       "                           ondownload,\n",
       "                           element.get(0));\n",
       "\n",
       "    // Call onopen now - mpl needs it, as it is assuming we've passed it a real\n",
       "    // web socket which is closed, not our websocket->open comm proxy.\n",
       "    ws_proxy.onopen();\n",
       "\n",
       "    fig.parent_element = element.get(0);\n",
       "    fig.cell_info = mpl.find_output_cell(\"<div id='\" + id + \"'></div>\");\n",
       "    if (!fig.cell_info) {\n",
       "        console.error(\"Failed to find cell for figure\", id, fig);\n",
       "        return;\n",
       "    }\n",
       "\n",
       "    var output_index = fig.cell_info[2]\n",
       "    var cell = fig.cell_info[0];\n",
       "\n",
       "};\n",
       "\n",
       "mpl.figure.prototype.handle_close = function(fig, msg) {\n",
       "    var width = fig.canvas.width/mpl.ratio\n",
       "    fig.root.unbind('remove')\n",
       "\n",
       "    // Update the output cell to use the data from the current canvas.\n",
       "    fig.push_to_output();\n",
       "    var dataURL = fig.canvas.toDataURL();\n",
       "    // Re-enable the keyboard manager in IPython - without this line, in FF,\n",
       "    // the notebook keyboard shortcuts fail.\n",
       "    IPython.keyboard_manager.enable()\n",
       "    $(fig.parent_element).html('<img src=\"' + dataURL + '\" width=\"' + width + '\">');\n",
       "    fig.close_ws(fig, msg);\n",
       "}\n",
       "\n",
       "mpl.figure.prototype.close_ws = function(fig, msg){\n",
       "    fig.send_message('closing', msg);\n",
       "    // fig.ws.close()\n",
       "}\n",
       "\n",
       "mpl.figure.prototype.push_to_output = function(remove_interactive) {\n",
       "    // Turn the data on the canvas into data in the output cell.\n",
       "    var width = this.canvas.width/mpl.ratio\n",
       "    var dataURL = this.canvas.toDataURL();\n",
       "    this.cell_info[1]['text/html'] = '<img src=\"' + dataURL + '\" width=\"' + width + '\">';\n",
       "}\n",
       "\n",
       "mpl.figure.prototype.updated_canvas_event = function() {\n",
       "    // Tell IPython that the notebook contents must change.\n",
       "    IPython.notebook.set_dirty(true);\n",
       "    this.send_message(\"ack\", {});\n",
       "    var fig = this;\n",
       "    // Wait a second, then push the new image to the DOM so\n",
       "    // that it is saved nicely (might be nice to debounce this).\n",
       "    setTimeout(function () { fig.push_to_output() }, 1000);\n",
       "}\n",
       "\n",
       "mpl.figure.prototype._init_toolbar = function() {\n",
       "    var fig = this;\n",
       "\n",
       "    var nav_element = $('<div/>')\n",
       "    nav_element.attr('style', 'width: 100%');\n",
       "    this.root.append(nav_element);\n",
       "\n",
       "    // Define a callback function for later on.\n",
       "    function toolbar_event(event) {\n",
       "        return fig.toolbar_button_onclick(event['data']);\n",
       "    }\n",
       "    function toolbar_mouse_event(event) {\n",
       "        return fig.toolbar_button_onmouseover(event['data']);\n",
       "    }\n",
       "\n",
       "    for(var toolbar_ind in mpl.toolbar_items){\n",
       "        var name = mpl.toolbar_items[toolbar_ind][0];\n",
       "        var tooltip = mpl.toolbar_items[toolbar_ind][1];\n",
       "        var image = mpl.toolbar_items[toolbar_ind][2];\n",
       "        var method_name = mpl.toolbar_items[toolbar_ind][3];\n",
       "\n",
       "        if (!name) { continue; };\n",
       "\n",
       "        var button = $('<button class=\"btn btn-default\" href=\"#\" title=\"' + name + '\"><i class=\"fa ' + image + ' fa-lg\"></i></button>');\n",
       "        button.click(method_name, toolbar_event);\n",
       "        button.mouseover(tooltip, toolbar_mouse_event);\n",
       "        nav_element.append(button);\n",
       "    }\n",
       "\n",
       "    // Add the status bar.\n",
       "    var status_bar = $('<span class=\"mpl-message\" style=\"text-align:right; float: right;\"/>');\n",
       "    nav_element.append(status_bar);\n",
       "    this.message = status_bar[0];\n",
       "\n",
       "    // Add the close button to the window.\n",
       "    var buttongrp = $('<div class=\"btn-group inline pull-right\"></div>');\n",
       "    var button = $('<button class=\"btn btn-mini btn-primary\" href=\"#\" title=\"Stop Interaction\"><i class=\"fa fa-power-off icon-remove icon-large\"></i></button>');\n",
       "    button.click(function (evt) { fig.handle_close(fig, {}); } );\n",
       "    button.mouseover('Stop Interaction', toolbar_mouse_event);\n",
       "    buttongrp.append(button);\n",
       "    var titlebar = this.root.find($('.ui-dialog-titlebar'));\n",
       "    titlebar.prepend(buttongrp);\n",
       "}\n",
       "\n",
       "mpl.figure.prototype._root_extra_style = function(el){\n",
       "    var fig = this\n",
       "    el.on(\"remove\", function(){\n",
       "\tfig.close_ws(fig, {});\n",
       "    });\n",
       "}\n",
       "\n",
       "mpl.figure.prototype._canvas_extra_style = function(el){\n",
       "    // this is important to make the div 'focusable\n",
       "    el.attr('tabindex', 0)\n",
       "    // reach out to IPython and tell the keyboard manager to turn it's self\n",
       "    // off when our div gets focus\n",
       "\n",
       "    // location in version 3\n",
       "    if (IPython.notebook.keyboard_manager) {\n",
       "        IPython.notebook.keyboard_manager.register_events(el);\n",
       "    }\n",
       "    else {\n",
       "        // location in version 2\n",
       "        IPython.keyboard_manager.register_events(el);\n",
       "    }\n",
       "\n",
       "}\n",
       "\n",
       "mpl.figure.prototype._key_event_extra = function(event, name) {\n",
       "    var manager = IPython.notebook.keyboard_manager;\n",
       "    if (!manager)\n",
       "        manager = IPython.keyboard_manager;\n",
       "\n",
       "    // Check for shift+enter\n",
       "    if (event.shiftKey && event.which == 13) {\n",
       "        this.canvas_div.blur();\n",
       "        // select the cell after this one\n",
       "        var index = IPython.notebook.find_cell_index(this.cell_info[0]);\n",
       "        IPython.notebook.select(index + 1);\n",
       "    }\n",
       "}\n",
       "\n",
       "mpl.figure.prototype.handle_save = function(fig, msg) {\n",
       "    fig.ondownload(fig, null);\n",
       "}\n",
       "\n",
       "\n",
       "mpl.find_output_cell = function(html_output) {\n",
       "    // Return the cell and output element which can be found *uniquely* in the notebook.\n",
       "    // Note - this is a bit hacky, but it is done because the \"notebook_saving.Notebook\"\n",
       "    // IPython event is triggered only after the cells have been serialised, which for\n",
       "    // our purposes (turning an active figure into a static one), is too late.\n",
       "    var cells = IPython.notebook.get_cells();\n",
       "    var ncells = cells.length;\n",
       "    for (var i=0; i<ncells; i++) {\n",
       "        var cell = cells[i];\n",
       "        if (cell.cell_type === 'code'){\n",
       "            for (var j=0; j<cell.output_area.outputs.length; j++) {\n",
       "                var data = cell.output_area.outputs[j];\n",
       "                if (data.data) {\n",
       "                    // IPython >= 3 moved mimebundle to data attribute of output\n",
       "                    data = data.data;\n",
       "                }\n",
       "                if (data['text/html'] == html_output) {\n",
       "                    return [cell, data, j];\n",
       "                }\n",
       "            }\n",
       "        }\n",
       "    }\n",
       "}\n",
       "\n",
       "// Register the function which deals with the matplotlib target/channel.\n",
       "// The kernel may be null if the page has been refreshed.\n",
       "if (IPython.notebook.kernel != null) {\n",
       "    IPython.notebook.kernel.comm_manager.register_target('matplotlib', mpl.mpl_figure_comm);\n",
       "}\n"
      ],
      "text/plain": [
       "<IPython.core.display.Javascript object>"
      ]
     },
     "metadata": {},
     "output_type": "display_data"
    },
    {
     "data": {
      "text/html": [
       "<img src=\"data:image/png;base64,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\" width=\"800\">"
      ],
      "text/plain": [
       "<IPython.core.display.HTML object>"
      ]
     },
     "metadata": {},
     "output_type": "display_data"
    }
   ],
   "source": [
    "from sklearn.metrics import precision_recall_curve\n",
    "\n",
    "precision, recall, thresholds = precision_recall_curve(y_test, y_scores_lr)\n",
    "closest_zero = np.argmin(np.abs(thresholds))\n",
    "closest_zero_p = precision[closest_zero]\n",
    "closest_zero_r = recall[closest_zero]\n",
    "\n",
    "plt.figure()\n",
    "plt.xlim([0.0, 1.01])\n",
    "plt.ylim([0.0, 1.01])\n",
    "plt.plot(precision, recall, label='Precision-Recall Curve')\n",
    "plt.plot(closest_zero_p, closest_zero_r, 'o', markersize = 12, fillstyle = 'none', c='r', mew=3)\n",
    "plt.xlabel('Precision', fontsize=16)\n",
    "plt.ylabel('Recall', fontsize=16)\n",
    "plt.axes().set_aspect('equal')\n",
    "plt.show()"
   ]
  },
  {
   "cell_type": "markdown",
   "metadata": {},
   "source": [
    "### ROC curves, Area-Under-Curve (AUC)"
   ]
  },
  {
   "cell_type": "code",
   "execution_count": null,
   "metadata": {
    "collapsed": false
   },
   "outputs": [],
   "source": [
    "from sklearn.metrics import roc_curve, auc\n",
    "\n",
    "X_train, X_test, y_train, y_test = train_test_split(X, y_binary_imbalanced, random_state=0)\n",
    "\n",
    "y_score_lr = lr.fit(X_train, y_train).decision_function(X_test)\n",
    "fpr_lr, tpr_lr, _ = roc_curve(y_test, y_score_lr)\n",
    "roc_auc_lr = auc(fpr_lr, tpr_lr)\n",
    "\n",
    "plt.figure()\n",
    "plt.xlim([-0.01, 1.00])\n",
    "plt.ylim([-0.01, 1.01])\n",
    "plt.plot(fpr_lr, tpr_lr, lw=3, label='LogRegr ROC curve (area = {:0.2f})'.format(roc_auc_lr))\n",
    "plt.xlabel('False Positive Rate', fontsize=16)\n",
    "plt.ylabel('True Positive Rate', fontsize=16)\n",
    "plt.title('ROC curve (1-of-10 digits classifier)', fontsize=16)\n",
    "plt.legend(loc='lower right', fontsize=13)\n",
    "plt.plot([0, 1], [0, 1], color='navy', lw=3, linestyle='--')\n",
    "plt.axes().set_aspect('equal')\n",
    "plt.show()"
   ]
  },
  {
   "cell_type": "code",
   "execution_count": null,
   "metadata": {
    "collapsed": false,
    "scrolled": false
   },
   "outputs": [],
   "source": [
    "from matplotlib import cm\n",
    "\n",
    "X_train, X_test, y_train, y_test = train_test_split(X, y_binary_imbalanced, random_state=0)\n",
    "\n",
    "plt.figure()\n",
    "plt.xlim([-0.01, 1.00])\n",
    "plt.ylim([-0.01, 1.01])\n",
    "for g in [0.01, 0.1, 0.20, 1]:\n",
    "    svm = SVC(gamma=g).fit(X_train, y_train)\n",
    "    y_score_svm = svm.decision_function(X_test)\n",
    "    fpr_svm, tpr_svm, _ = roc_curve(y_test, y_score_svm)\n",
    "    roc_auc_svm = auc(fpr_svm, tpr_svm)\n",
    "    accuracy_svm = svm.score(X_test, y_test)\n",
    "    print(\"gamma = {:.2f}  accuracy = {:.2f}   AUC = {:.2f}\".format(g, accuracy_svm, \n",
    "                                                                    roc_auc_svm))\n",
    "    plt.plot(fpr_svm, tpr_svm, lw=3, alpha=0.7, \n",
    "             label='SVM (gamma = {:0.2f}, area = {:0.2f})'.format(g, roc_auc_svm))\n",
    "\n",
    "plt.xlabel('False Positive Rate', fontsize=16)\n",
    "plt.ylabel('True Positive Rate (Recall)', fontsize=16)\n",
    "plt.plot([0, 1], [0, 1], color='k', lw=0.5, linestyle='--')\n",
    "plt.legend(loc=\"lower right\", fontsize=11)\n",
    "plt.title('ROC curve: (1-of-10 digits classifier)', fontsize=16)\n",
    "plt.axes().set_aspect('equal')\n",
    "\n",
    "plt.show()"
   ]
  },
  {
   "cell_type": "markdown",
   "metadata": {},
   "source": [
    "### Evaluation measures for multi-class classification"
   ]
  },
  {
   "cell_type": "markdown",
   "metadata": {},
   "source": [
    "#### Multi-class confusion matrix"
   ]
  },
  {
   "cell_type": "code",
   "execution_count": null,
   "metadata": {
    "collapsed": false,
    "scrolled": false
   },
   "outputs": [],
   "source": [
    "dataset = load_digits()\n",
    "X, y = dataset.data, dataset.target\n",
    "X_train_mc, X_test_mc, y_train_mc, y_test_mc = train_test_split(X, y, random_state=0)\n",
    "\n",
    "\n",
    "svm = SVC(kernel = 'linear').fit(X_train_mc, y_train_mc)\n",
    "svm_predicted_mc = svm.predict(X_test_mc)\n",
    "confusion_mc = confusion_matrix(y_test_mc, svm_predicted_mc)\n",
    "df_cm = pd.DataFrame(confusion_mc, \n",
    "                     index = [i for i in range(0,10)], columns = [i for i in range(0,10)])\n",
    "\n",
    "plt.figure(figsize=(5.5,4))\n",
    "sns.heatmap(df_cm, annot=True)\n",
    "plt.title('SVM Linear Kernel \\nAccuracy:{0:.3f}'.format(accuracy_score(y_test_mc, \n",
    "                                                                       svm_predicted_mc)))\n",
    "plt.ylabel('True label')\n",
    "plt.xlabel('Predicted label')\n",
    "\n",
    "\n",
    "svm = SVC(kernel = 'rbf').fit(X_train_mc, y_train_mc)\n",
    "svm_predicted_mc = svm.predict(X_test_mc)\n",
    "confusion_mc = confusion_matrix(y_test_mc, svm_predicted_mc)\n",
    "df_cm = pd.DataFrame(confusion_mc, index = [i for i in range(0,10)],\n",
    "                  columns = [i for i in range(0,10)])\n",
    "\n",
    "plt.figure(figsize = (5.5,4))\n",
    "sns.heatmap(df_cm, annot=True)\n",
    "plt.title('SVM RBF Kernel \\nAccuracy:{0:.3f}'.format(accuracy_score(y_test_mc, \n",
    "                                                                    svm_predicted_mc)))\n",
    "plt.ylabel('True label')\n",
    "plt.xlabel('Predicted label');"
   ]
  },
  {
   "cell_type": "markdown",
   "metadata": {},
   "source": [
    "#### Multi-class classification report"
   ]
  },
  {
   "cell_type": "code",
   "execution_count": null,
   "metadata": {
    "collapsed": false
   },
   "outputs": [],
   "source": [
    "print(classification_report(y_test_mc, svm_predicted_mc))"
   ]
  },
  {
   "cell_type": "markdown",
   "metadata": {},
   "source": [
    "#### Micro- vs. macro-averaged metrics"
   ]
  },
  {
   "cell_type": "code",
   "execution_count": null,
   "metadata": {
    "collapsed": false
   },
   "outputs": [],
   "source": [
    "print('Micro-averaged precision = {:.2f} (treat instances equally)'\n",
    "      .format(precision_score(y_test_mc, svm_predicted_mc, average = 'micro')))\n",
    "print('Macro-averaged precision = {:.2f} (treat classes equally)'\n",
    "      .format(precision_score(y_test_mc, svm_predicted_mc, average = 'macro')))"
   ]
  },
  {
   "cell_type": "code",
   "execution_count": null,
   "metadata": {
    "collapsed": false
   },
   "outputs": [],
   "source": [
    "print('Micro-averaged f1 = {:.2f} (treat instances equally)'\n",
    "      .format(f1_score(y_test_mc, svm_predicted_mc, average = 'micro')))\n",
    "print('Macro-averaged f1 = {:.2f} (treat classes equally)'\n",
    "      .format(f1_score(y_test_mc, svm_predicted_mc, average = 'macro')))"
   ]
  },
  {
   "cell_type": "markdown",
   "metadata": {},
   "source": [
    "### Regression evaluation metrics"
   ]
  },
  {
   "cell_type": "code",
   "execution_count": null,
   "metadata": {
    "collapsed": false
   },
   "outputs": [],
   "source": [
    "%matplotlib notebook\n",
    "import matplotlib.pyplot as plt\n",
    "import numpy as np\n",
    "from sklearn.model_selection import train_test_split\n",
    "from sklearn import datasets\n",
    "from sklearn.linear_model import LinearRegression\n",
    "from sklearn.metrics import mean_squared_error, r2_score\n",
    "from sklearn.dummy import DummyRegressor\n",
    "\n",
    "diabetes = datasets.load_diabetes()\n",
    "\n",
    "X = diabetes.data[:, None, 6]\n",
    "y = diabetes.target\n",
    "\n",
    "X_train, X_test, y_train, y_test = train_test_split(X, y, random_state=0)\n",
    "\n",
    "lm = LinearRegression().fit(X_train, y_train)\n",
    "lm_dummy_mean = DummyRegressor(strategy = 'mean').fit(X_train, y_train)\n",
    "\n",
    "y_predict = lm.predict(X_test)\n",
    "y_predict_dummy_mean = lm_dummy_mean.predict(X_test)\n",
    "\n",
    "print('Linear model, coefficients: ', lm.coef_)\n",
    "print(\"Mean squared error (dummy): {:.2f}\".format(mean_squared_error(y_test, \n",
    "                                                                     y_predict_dummy_mean)))\n",
    "print(\"Mean squared error (linear model): {:.2f}\".format(mean_squared_error(y_test, y_predict)))\n",
    "print(\"r2_score (dummy): {:.2f}\".format(r2_score(y_test, y_predict_dummy_mean)))\n",
    "print(\"r2_score (linear model): {:.2f}\".format(r2_score(y_test, y_predict)))\n",
    "\n",
    "# Plot outputs\n",
    "plt.scatter(X_test, y_test,  color='black')\n",
    "plt.plot(X_test, y_predict, color='green', linewidth=2)\n",
    "plt.plot(X_test, y_predict_dummy_mean, color='red', linestyle = 'dashed', \n",
    "         linewidth=2, label = 'dummy')\n",
    "\n",
    "plt.show()"
   ]
  },
  {
   "cell_type": "markdown",
   "metadata": {},
   "source": [
    "### Model selection using evaluation metrics"
   ]
  },
  {
   "cell_type": "markdown",
   "metadata": {},
   "source": [
    "#### Cross-validation example"
   ]
  },
  {
   "cell_type": "code",
   "execution_count": null,
   "metadata": {
    "collapsed": false
   },
   "outputs": [],
   "source": [
    "from sklearn.model_selection import cross_val_score\n",
    "from sklearn.svm import SVC\n",
    "\n",
    "dataset = load_digits()\n",
    "# again, making this a binary problem with 'digit 1' as positive class \n",
    "# and 'not 1' as negative class\n",
    "X, y = dataset.data, dataset.target == 1\n",
    "clf = SVC(kernel='linear', C=1)\n",
    "\n",
    "# accuracy is the default scoring metric\n",
    "print('Cross-validation (accuracy)', cross_val_score(clf, X, y, cv=5))\n",
    "# use AUC as scoring metric\n",
    "print('Cross-validation (AUC)', cross_val_score(clf, X, y, cv=5, scoring = 'roc_auc'))\n",
    "# use recall as scoring metric\n",
    "print('Cross-validation (recall)', cross_val_score(clf, X, y, cv=5, scoring = 'recall'))"
   ]
  },
  {
   "cell_type": "markdown",
   "metadata": {},
   "source": [
    "#### Grid search example"
   ]
  },
  {
   "cell_type": "code",
   "execution_count": null,
   "metadata": {
    "collapsed": false
   },
   "outputs": [],
   "source": [
    "from sklearn.svm import SVC\n",
    "from sklearn.model_selection import GridSearchCV\n",
    "from sklearn.metrics import roc_auc_score\n",
    "\n",
    "dataset = load_digits()\n",
    "X, y = dataset.data, dataset.target == 1\n",
    "X_train, X_test, y_train, y_test = train_test_split(X, y, random_state=0)\n",
    "\n",
    "clf = SVC(kernel='rbf')\n",
    "grid_values = {'gamma': [0.001, 0.01, 0.05, 0.1, 1, 10, 100]}\n",
    "\n",
    "# default metric to optimize over grid parameters: accuracy\n",
    "grid_clf_acc = GridSearchCV(clf, param_grid = grid_values)\n",
    "grid_clf_acc.fit(X_train, y_train)\n",
    "y_decision_fn_scores_acc = grid_clf_acc.decision_function(X_test) \n",
    "\n",
    "print('Grid best parameter (max. accuracy): ', grid_clf_acc.best_params_)\n",
    "print('Grid best score (accuracy): ', grid_clf_acc.best_score_)\n",
    "\n",
    "# alternative metric to optimize over grid parameters: AUC\n",
    "grid_clf_auc = GridSearchCV(clf, param_grid = grid_values, scoring = 'roc_auc')\n",
    "grid_clf_auc.fit(X_train, y_train)\n",
    "y_decision_fn_scores_auc = grid_clf_auc.decision_function(X_test) \n",
    "\n",
    "print('Test set AUC: ', roc_auc_score(y_test, y_decision_fn_scores_auc))\n",
    "print('Grid best parameter (max. AUC): ', grid_clf_auc.best_params_)\n",
    "print('Grid best score (AUC): ', grid_clf_auc.best_score_)\n"
   ]
  },
  {
   "cell_type": "markdown",
   "metadata": {},
   "source": [
    "#### Evaluation metrics supported for model selection"
   ]
  },
  {
   "cell_type": "code",
   "execution_count": null,
   "metadata": {
    "collapsed": false
   },
   "outputs": [],
   "source": [
    "from sklearn.metrics.scorer import SCORERS\n",
    "\n",
    "print(sorted(list(SCORERS.keys())))"
   ]
  },
  {
   "cell_type": "markdown",
   "metadata": {},
   "source": [
    "### Two-feature classification example using the digits dataset"
   ]
  },
  {
   "cell_type": "markdown",
   "metadata": {},
   "source": [
    "#### Optimizing a classifier using different evaluation metrics"
   ]
  },
  {
   "cell_type": "code",
   "execution_count": null,
   "metadata": {
    "collapsed": false,
    "scrolled": false
   },
   "outputs": [],
   "source": [
    "from sklearn.datasets import load_digits\n",
    "from sklearn.model_selection import train_test_split\n",
    "from adspy_shared_utilities import plot_class_regions_for_classifier_subplot\n",
    "from sklearn.svm import SVC\n",
    "from sklearn.model_selection import GridSearchCV\n",
    "\n",
    "\n",
    "dataset = load_digits()\n",
    "X, y = dataset.data, dataset.target == 1\n",
    "X_train, X_test, y_train, y_test = train_test_split(X, y, random_state=0)\n",
    "\n",
    "# Create a two-feature input vector matching the example plot above\n",
    "# We jitter the points (add a small amount of random noise) in case there are areas\n",
    "# in feature space where many instances have the same features.\n",
    "jitter_delta = 0.25\n",
    "X_twovar_train = X_train[:,[20,59]]+ np.random.rand(X_train.shape[0], 2) - jitter_delta\n",
    "X_twovar_test  = X_test[:,[20,59]] + np.random.rand(X_test.shape[0], 2) - jitter_delta\n",
    "\n",
    "clf = SVC(kernel = 'linear').fit(X_twovar_train, y_train)\n",
    "grid_values = {'class_weight':['balanced', {1:2},{1:3},{1:4},{1:5},{1:10},{1:20},{1:50}]}\n",
    "plt.figure(figsize=(9,6))\n",
    "for i, eval_metric in enumerate(('precision','recall', 'f1','roc_auc')):\n",
    "    grid_clf_custom = GridSearchCV(clf, param_grid=grid_values, scoring=eval_metric)\n",
    "    grid_clf_custom.fit(X_twovar_train, y_train)\n",
    "    print('Grid best parameter (max. {0}): {1}'\n",
    "          .format(eval_metric, grid_clf_custom.best_params_))\n",
    "    print('Grid best score ({0}): {1}'\n",
    "          .format(eval_metric, grid_clf_custom.best_score_))\n",
    "    plt.subplots_adjust(wspace=0.3, hspace=0.3)\n",
    "    plot_class_regions_for_classifier_subplot(grid_clf_custom, X_twovar_test, y_test, None,\n",
    "                                             None, None,  plt.subplot(2, 2, i+1))\n",
    "    \n",
    "    plt.title(eval_metric+'-oriented SVC')\n",
    "plt.tight_layout()\n",
    "plt.show()"
   ]
  },
  {
   "cell_type": "markdown",
   "metadata": {},
   "source": [
    "#### Precision-recall curve for the default SVC classifier (with balanced class weights)"
   ]
  },
  {
   "cell_type": "code",
   "execution_count": null,
   "metadata": {
    "collapsed": false,
    "scrolled": false
   },
   "outputs": [],
   "source": [
    "from sklearn.model_selection import train_test_split\n",
    "from sklearn.metrics import precision_recall_curve\n",
    "from adspy_shared_utilities import plot_class_regions_for_classifier\n",
    "from sklearn.svm import SVC\n",
    "\n",
    "dataset = load_digits()\n",
    "X, y = dataset.data, dataset.target == 1\n",
    "X_train, X_test, y_train, y_test = train_test_split(X, y, random_state=0)\n",
    "\n",
    "# create a two-feature input vector matching the example plot above\n",
    "jitter_delta = 0.25\n",
    "X_twovar_train = X_train[:,[20,59]]+ np.random.rand(X_train.shape[0], 2) - jitter_delta\n",
    "X_twovar_test  = X_test[:,[20,59]] + np.random.rand(X_test.shape[0], 2) - jitter_delta\n",
    "\n",
    "clf = SVC(kernel='linear', class_weight='balanced').fit(X_twovar_train, y_train)\n",
    "\n",
    "y_scores = clf.decision_function(X_twovar_test)\n",
    "\n",
    "precision, recall, thresholds = precision_recall_curve(y_test, y_scores)\n",
    "closest_zero = np.argmin(np.abs(thresholds))\n",
    "closest_zero_p = precision[closest_zero]\n",
    "closest_zero_r = recall[closest_zero]\n",
    "\n",
    "plot_class_regions_for_classifier(clf, X_twovar_test, y_test)\n",
    "plt.title(\"SVC, class_weight = 'balanced', optimized for accuracy\")\n",
    "plt.show()\n",
    "\n",
    "plt.figure()\n",
    "plt.xlim([0.0, 1.01])\n",
    "plt.ylim([0.0, 1.01])\n",
    "plt.title (\"Precision-recall curve: SVC, class_weight = 'balanced'\")\n",
    "plt.plot(precision, recall, label = 'Precision-Recall Curve')\n",
    "plt.plot(closest_zero_p, closest_zero_r, 'o', markersize=12, fillstyle='none', c='r', mew=3)\n",
    "plt.xlabel('Precision', fontsize=16)\n",
    "plt.ylabel('Recall', fontsize=16)\n",
    "plt.axes().set_aspect('equal')\n",
    "plt.show()\n",
    "print('At zero threshold, precision: {:.2f}, recall: {:.2f}'\n",
    "      .format(closest_zero_p, closest_zero_r))"
   ]
  },
  {
   "cell_type": "code",
   "execution_count": null,
   "metadata": {
    "collapsed": true
   },
   "outputs": [],
   "source": []
  }
 ],
 "metadata": {
  "anaconda-cloud": {},
  "kernelspec": {
   "display_name": "Python [default]",
   "language": "python",
   "name": "python2"
  },
  "language_info": {
   "codemirror_mode": {
    "name": "ipython",
    "version": 2
   },
   "file_extension": ".py",
   "mimetype": "text/x-python",
   "name": "python",
   "nbconvert_exporter": "python",
   "pygments_lexer": "ipython2",
   "version": "2.7.13"
  }
 },
 "nbformat": 4,
 "nbformat_minor": 1
}
